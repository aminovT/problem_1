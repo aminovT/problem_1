{
 "cells": [
  {
   "cell_type": "code",
   "execution_count": 44,
   "metadata": {},
   "outputs": [],
   "source": [
    "import pandas as pd\n",
    "import numpy as np\n",
    "\n",
    "df =  pd.read_csv('full.csv', delimiter=',')"
   ]
  },
  {
   "cell_type": "code",
   "execution_count": 45,
   "metadata": {},
   "outputs": [
    {
     "data": {
      "text/html": [
       "<div>\n",
       "<style scoped>\n",
       "    .dataframe tbody tr th:only-of-type {\n",
       "        vertical-align: middle;\n",
       "    }\n",
       "\n",
       "    .dataframe tbody tr th {\n",
       "        vertical-align: top;\n",
       "    }\n",
       "\n",
       "    .dataframe thead th {\n",
       "        text-align: right;\n",
       "    }\n",
       "</style>\n",
       "<table border=\"1\" class=\"dataframe\">\n",
       "  <thead>\n",
       "    <tr style=\"text-align: right;\">\n",
       "      <th></th>\n",
       "      <th>amount</th>\n",
       "      <th>age</th>\n",
       "      <th>sex</th>\n",
       "      <th>ins_type</th>\n",
       "      <th>speciality</th>\n",
       "      <th>id</th>\n",
       "      <th>treatments</th>\n",
       "      <th>types</th>\n",
       "      <th>target</th>\n",
       "    </tr>\n",
       "  </thead>\n",
       "  <tbody>\n",
       "    <tr>\n",
       "      <th>0</th>\n",
       "      <td>330.97</td>\n",
       "      <td>53.570385</td>\n",
       "      <td>0</td>\n",
       "      <td>1</td>\n",
       "      <td>1</td>\n",
       "      <td>ID_1</td>\n",
       "      <td>A_178 A_1884 A_1 A_168 A_172 A_174</td>\n",
       "      <td>AA_10 AA_2 AA_2 AA_10 AA_10 AA_10</td>\n",
       "      <td>0</td>\n",
       "    </tr>\n",
       "    <tr>\n",
       "      <th>1</th>\n",
       "      <td>455.20</td>\n",
       "      <td>83.382720</td>\n",
       "      <td>1</td>\n",
       "      <td>1</td>\n",
       "      <td>1</td>\n",
       "      <td>ID_2</td>\n",
       "      <td>A_765 A_764 A_1257 A_777 A_802 A_797 &lt;UNK&gt; A_...</td>\n",
       "      <td>AA_13 AA_13 AA_3 AA_13 AA_13 AA_13 AA_1 AA_3 ...</td>\n",
       "      <td>0</td>\n",
       "    </tr>\n",
       "    <tr>\n",
       "      <th>2</th>\n",
       "      <td>199.53</td>\n",
       "      <td>69.567510</td>\n",
       "      <td>1</td>\n",
       "      <td>1</td>\n",
       "      <td>1</td>\n",
       "      <td>ID_3</td>\n",
       "      <td>A_1978 A_710 A_1677 A_1701 A_1 A_585 &lt;UNK&gt; A_...</td>\n",
       "      <td>AA_2 AA_12 AA_5 AA_5 AA_2 AA_3 AA_1 AA_3 AA_1...</td>\n",
       "      <td>0</td>\n",
       "    </tr>\n",
       "    <tr>\n",
       "      <th>3</th>\n",
       "      <td>142.85</td>\n",
       "      <td>69.556330</td>\n",
       "      <td>1</td>\n",
       "      <td>1</td>\n",
       "      <td>1</td>\n",
       "      <td>ID_4</td>\n",
       "      <td>A_1257 A_545 A_1128 A_1 A_1191 A_2001 &lt;UNK&gt; A...</td>\n",
       "      <td>AA_3 AA_3 AA_3 AA_2 AA_3 AA_2 AA_1 AA_2 AA_2</td>\n",
       "      <td>0</td>\n",
       "    </tr>\n",
       "    <tr>\n",
       "      <th>4</th>\n",
       "      <td>168.87</td>\n",
       "      <td>18.873434</td>\n",
       "      <td>0</td>\n",
       "      <td>1</td>\n",
       "      <td>1</td>\n",
       "      <td>ID_5</td>\n",
       "      <td>A_737 A_20 A_1257 A_1191 A_642 A_1 &lt;UNK&gt; A_73...</td>\n",
       "      <td>AA_13 AA_8 AA_3 AA_3 AA_3 AA_2 AA_1 AA_13 AA_...</td>\n",
       "      <td>0</td>\n",
       "    </tr>\n",
       "  </tbody>\n",
       "</table>\n",
       "</div>"
      ],
      "text/plain": [
       "   amount        age  sex  ins_type  speciality    id  \\\n",
       "0  330.97  53.570385    0         1           1  ID_1   \n",
       "1  455.20  83.382720    1         1           1  ID_2   \n",
       "2  199.53  69.567510    1         1           1  ID_3   \n",
       "3  142.85  69.556330    1         1           1  ID_4   \n",
       "4  168.87  18.873434    0         1           1  ID_5   \n",
       "\n",
       "                                          treatments  \\\n",
       "0                 A_178 A_1884 A_1 A_168 A_172 A_174   \n",
       "1   A_765 A_764 A_1257 A_777 A_802 A_797 <UNK> A_...   \n",
       "2   A_1978 A_710 A_1677 A_1701 A_1 A_585 <UNK> A_...   \n",
       "3   A_1257 A_545 A_1128 A_1 A_1191 A_2001 <UNK> A...   \n",
       "4   A_737 A_20 A_1257 A_1191 A_642 A_1 <UNK> A_73...   \n",
       "\n",
       "                                               types  target  \n",
       "0                  AA_10 AA_2 AA_2 AA_10 AA_10 AA_10       0  \n",
       "1   AA_13 AA_13 AA_3 AA_13 AA_13 AA_13 AA_1 AA_3 ...       0  \n",
       "2   AA_2 AA_12 AA_5 AA_5 AA_2 AA_3 AA_1 AA_3 AA_1...       0  \n",
       "3       AA_3 AA_3 AA_3 AA_2 AA_3 AA_2 AA_1 AA_2 AA_2       0  \n",
       "4   AA_13 AA_8 AA_3 AA_3 AA_3 AA_2 AA_1 AA_13 AA_...       0  "
      ]
     },
     "execution_count": 45,
     "metadata": {},
     "output_type": "execute_result"
    }
   ],
   "source": [
    "df.head()"
   ]
  },
  {
   "cell_type": "code",
   "execution_count": 46,
   "metadata": {},
   "outputs": [
    {
     "name": "stdout",
     "output_type": "stream",
     "text": [
      "<class 'pandas.core.frame.DataFrame'>\n",
      "RangeIndex: 381013 entries, 0 to 381012\n",
      "Data columns (total 9 columns):\n",
      "amount        381013 non-null float64\n",
      "age           381013 non-null float64\n",
      "sex           381013 non-null int64\n",
      "ins_type      381013 non-null int64\n",
      "speciality    381013 non-null int64\n",
      "id            381013 non-null object\n",
      "treatments    381013 non-null object\n",
      "types         381013 non-null object\n",
      "target        381013 non-null int64\n",
      "dtypes: float64(2), int64(4), object(3)\n",
      "memory usage: 26.2+ MB\n"
     ]
    }
   ],
   "source": [
    "df.info()"
   ]
  },
  {
   "cell_type": "code",
   "execution_count": 47,
   "metadata": {},
   "outputs": [
    {
     "data": {
      "text/html": [
       "<div>\n",
       "<style scoped>\n",
       "    .dataframe tbody tr th:only-of-type {\n",
       "        vertical-align: middle;\n",
       "    }\n",
       "\n",
       "    .dataframe tbody tr th {\n",
       "        vertical-align: top;\n",
       "    }\n",
       "\n",
       "    .dataframe thead th {\n",
       "        text-align: right;\n",
       "    }\n",
       "</style>\n",
       "<table border=\"1\" class=\"dataframe\">\n",
       "  <thead>\n",
       "    <tr style=\"text-align: right;\">\n",
       "      <th></th>\n",
       "      <th>amount</th>\n",
       "      <th>age</th>\n",
       "      <th>sex</th>\n",
       "      <th>ins_type</th>\n",
       "      <th>speciality</th>\n",
       "      <th>target</th>\n",
       "    </tr>\n",
       "  </thead>\n",
       "  <tbody>\n",
       "    <tr>\n",
       "      <th>count</th>\n",
       "      <td>381013.000000</td>\n",
       "      <td>381013.000000</td>\n",
       "      <td>381013.000000</td>\n",
       "      <td>381013.000000</td>\n",
       "      <td>381013.000000</td>\n",
       "      <td>381013.000000</td>\n",
       "    </tr>\n",
       "    <tr>\n",
       "      <th>mean</th>\n",
       "      <td>193.609024</td>\n",
       "      <td>63.216714</td>\n",
       "      <td>0.522392</td>\n",
       "      <td>0.993029</td>\n",
       "      <td>0.993029</td>\n",
       "      <td>0.014978</td>\n",
       "    </tr>\n",
       "    <tr>\n",
       "      <th>std</th>\n",
       "      <td>399.281934</td>\n",
       "      <td>18.274878</td>\n",
       "      <td>0.499499</td>\n",
       "      <td>0.083200</td>\n",
       "      <td>0.083200</td>\n",
       "      <td>0.121467</td>\n",
       "    </tr>\n",
       "    <tr>\n",
       "      <th>min</th>\n",
       "      <td>0.560000</td>\n",
       "      <td>0.037582</td>\n",
       "      <td>0.000000</td>\n",
       "      <td>0.000000</td>\n",
       "      <td>0.000000</td>\n",
       "      <td>0.000000</td>\n",
       "    </tr>\n",
       "    <tr>\n",
       "      <th>25%</th>\n",
       "      <td>45.570000</td>\n",
       "      <td>57.359340</td>\n",
       "      <td>0.000000</td>\n",
       "      <td>1.000000</td>\n",
       "      <td>1.000000</td>\n",
       "      <td>0.000000</td>\n",
       "    </tr>\n",
       "    <tr>\n",
       "      <th>50%</th>\n",
       "      <td>100.920000</td>\n",
       "      <td>67.555115</td>\n",
       "      <td>1.000000</td>\n",
       "      <td>1.000000</td>\n",
       "      <td>1.000000</td>\n",
       "      <td>0.000000</td>\n",
       "    </tr>\n",
       "    <tr>\n",
       "      <th>75%</th>\n",
       "      <td>224.150000</td>\n",
       "      <td>75.040360</td>\n",
       "      <td>1.000000</td>\n",
       "      <td>1.000000</td>\n",
       "      <td>1.000000</td>\n",
       "      <td>0.000000</td>\n",
       "    </tr>\n",
       "    <tr>\n",
       "      <th>max</th>\n",
       "      <td>56131.270000</td>\n",
       "      <td>106.495600</td>\n",
       "      <td>1.000000</td>\n",
       "      <td>1.000000</td>\n",
       "      <td>1.000000</td>\n",
       "      <td>1.000000</td>\n",
       "    </tr>\n",
       "  </tbody>\n",
       "</table>\n",
       "</div>"
      ],
      "text/plain": [
       "              amount            age            sex       ins_type  \\\n",
       "count  381013.000000  381013.000000  381013.000000  381013.000000   \n",
       "mean      193.609024      63.216714       0.522392       0.993029   \n",
       "std       399.281934      18.274878       0.499499       0.083200   \n",
       "min         0.560000       0.037582       0.000000       0.000000   \n",
       "25%        45.570000      57.359340       0.000000       1.000000   \n",
       "50%       100.920000      67.555115       1.000000       1.000000   \n",
       "75%       224.150000      75.040360       1.000000       1.000000   \n",
       "max     56131.270000     106.495600       1.000000       1.000000   \n",
       "\n",
       "          speciality         target  \n",
       "count  381013.000000  381013.000000  \n",
       "mean        0.993029       0.014978  \n",
       "std         0.083200       0.121467  \n",
       "min         0.000000       0.000000  \n",
       "25%         1.000000       0.000000  \n",
       "50%         1.000000       0.000000  \n",
       "75%         1.000000       0.000000  \n",
       "max         1.000000       1.000000  "
      ]
     },
     "execution_count": 47,
     "metadata": {},
     "output_type": "execute_result"
    }
   ],
   "source": [
    "df.describe()"
   ]
  },
  {
   "cell_type": "code",
   "execution_count": 48,
   "metadata": {},
   "outputs": [
    {
     "data": {
      "text/plain": [
       "<matplotlib.axes._subplots.AxesSubplot at 0x1a172fdd1d0>"
      ]
     },
     "execution_count": 48,
     "metadata": {},
     "output_type": "execute_result"
    },
    {
     "data": {
      "image/png": "[encoded data removed]",
      "text/plain": [
       "<Figure size 432x288 with 1 Axes>"
      ]
     },
     "metadata": {
      "needs_background": "light"
     },
     "output_type": "display_data"
    },
    {
     "data": {
      "image/png": "[encoded data removed]",
      "text/plain": [
       "<Figure size 432x288 with 1 Axes>"
      ]
     },
     "metadata": {
      "needs_background": "light"
     },
     "output_type": "display_data"
    }
   ],
   "source": [
    "import matplotlib.pyplot as plt\n",
    "fig = plt.figure()\n",
    "amount_df = df['amount']\n",
    "plt.title('amount')\n",
    "amount_df.plot()\n",
    "\n",
    "fig = plt.figure()\n",
    "age_df = df['age']\n",
    "plt.title('age')\n",
    "age_df.plot()"
   ]
  },
  {
   "cell_type": "code",
   "execution_count": 49,
   "metadata": {},
   "outputs": [
    {
     "name": "stdout",
     "output_type": "stream",
     "text": [
      "['amount', 'age', 'sex', 'ins_type', 'speciality', 'id', 'treatments', 'types', 'target']\n"
     ]
    }
   ],
   "source": [
    "colums = list(df.columns.values)\n",
    "print(colums)"
   ]
  },
  {
   "cell_type": "code",
   "execution_count": 50,
   "metadata": {},
   "outputs": [
    {
     "data": {
      "text/plain": [
       "149954"
      ]
     },
     "execution_count": 50,
     "metadata": {},
     "output_type": "execute_result"
    }
   ],
   "source": [
    "df.iloc[:,7].value_counts().count()"
   ]
  },
  {
   "cell_type": "markdown",
   "metadata": {},
   "source": [
    "Так как __id__ у всех разный просто удаляем этот столбец \n",
    "\n",
    "а столбцы __treatments__ и __types__ не просто бинамиризуем, потому что почти каждый второй уникален, альтернативный вариант занумеровать их, но тогда методы работать не будут, поэтому пока что так а дальше помотрим [сюда](https://istina.msu.ru/media/publications/article/972/9eb/7537819/sw-factors-dyakonov.pdf)\n",
    "\n",
    "нормализовывать данные или нет пока что под вопросом(__amount__ и __age__)"
   ]
  },
  {
   "cell_type": "code",
   "execution_count": 53,
   "metadata": {},
   "outputs": [],
   "source": [
    "del df['id']"
   ]
  },
  {
   "cell_type": "code",
   "execution_count": 51,
   "metadata": {},
   "outputs": [],
   "source": [
    "from sklearn import preprocessing\n",
    "le = preprocessing.LabelEncoder()\n",
    "le.fit(df.treatments)\n",
    "df[\"treatments_le\"] = le.transform(df.treatments) \n",
    "\n",
    "le.fit(df.types)\n",
    "df[\"types_le\"] = le.transform(df.types)\n",
    "\n",
    "del df['treatments']\n",
    "del df['types']"
   ]
  },
  {
   "cell_type": "code",
   "execution_count": 54,
   "metadata": {},
   "outputs": [
    {
     "data": {
      "text/html": [
       "<div>\n",
       "<style scoped>\n",
       "    .dataframe tbody tr th:only-of-type {\n",
       "        vertical-align: middle;\n",
       "    }\n",
       "\n",
       "    .dataframe tbody tr th {\n",
       "        vertical-align: top;\n",
       "    }\n",
       "\n",
       "    .dataframe thead th {\n",
       "        text-align: right;\n",
       "    }\n",
       "</style>\n",
       "<table border=\"1\" class=\"dataframe\">\n",
       "  <thead>\n",
       "    <tr style=\"text-align: right;\">\n",
       "      <th></th>\n",
       "      <th>amount</th>\n",
       "      <th>age</th>\n",
       "      <th>sex</th>\n",
       "      <th>ins_type</th>\n",
       "      <th>speciality</th>\n",
       "      <th>target</th>\n",
       "      <th>treatments_le</th>\n",
       "      <th>types_le</th>\n",
       "    </tr>\n",
       "  </thead>\n",
       "  <tbody>\n",
       "    <tr>\n",
       "      <th>0</th>\n",
       "      <td>330.97</td>\n",
       "      <td>53.570385</td>\n",
       "      <td>0</td>\n",
       "      <td>1</td>\n",
       "      <td>1</td>\n",
       "      <td>0</td>\n",
       "      <td>110225</td>\n",
       "      <td>17517</td>\n",
       "    </tr>\n",
       "    <tr>\n",
       "      <th>1</th>\n",
       "      <td>455.20</td>\n",
       "      <td>83.382720</td>\n",
       "      <td>1</td>\n",
       "      <td>1</td>\n",
       "      <td>1</td>\n",
       "      <td>0</td>\n",
       "      <td>214008</td>\n",
       "      <td>41795</td>\n",
       "    </tr>\n",
       "    <tr>\n",
       "      <th>2</th>\n",
       "      <td>199.53</td>\n",
       "      <td>69.567510</td>\n",
       "      <td>1</td>\n",
       "      <td>1</td>\n",
       "      <td>1</td>\n",
       "      <td>0</td>\n",
       "      <td>136578</td>\n",
       "      <td>69712</td>\n",
       "    </tr>\n",
       "    <tr>\n",
       "      <th>3</th>\n",
       "      <td>142.85</td>\n",
       "      <td>69.556330</td>\n",
       "      <td>1</td>\n",
       "      <td>1</td>\n",
       "      <td>1</td>\n",
       "      <td>0</td>\n",
       "      <td>73858</td>\n",
       "      <td>117896</td>\n",
       "    </tr>\n",
       "    <tr>\n",
       "      <th>4</th>\n",
       "      <td>168.87</td>\n",
       "      <td>18.873434</td>\n",
       "      <td>0</td>\n",
       "      <td>1</td>\n",
       "      <td>1</td>\n",
       "      <td>0</td>\n",
       "      <td>203713</td>\n",
       "      <td>56356</td>\n",
       "    </tr>\n",
       "  </tbody>\n",
       "</table>\n",
       "</div>"
      ],
      "text/plain": [
       "   amount        age  sex  ins_type  speciality  target  treatments_le  \\\n",
       "0  330.97  53.570385    0         1           1       0         110225   \n",
       "1  455.20  83.382720    1         1           1       0         214008   \n",
       "2  199.53  69.567510    1         1           1       0         136578   \n",
       "3  142.85  69.556330    1         1           1       0          73858   \n",
       "4  168.87  18.873434    0         1           1       0         203713   \n",
       "\n",
       "   types_le  \n",
       "0     17517  \n",
       "1     41795  \n",
       "2     69712  \n",
       "3    117896  \n",
       "4     56356  "
      ]
     },
     "execution_count": 54,
     "metadata": {},
     "output_type": "execute_result"
    }
   ],
   "source": [
    "df.head()"
   ]
  },
  {
   "cell_type": "code",
   "execution_count": null,
   "metadata": {},
   "outputs": [],
   "source": [
    "one = preprocessing.OneHotEncoder(sparse = False)\n",
    "new_one_f = one.fit_transform(df.treatments_le.values.reshape(-1,1))\n",
    "tpm = pd.DataFrame(new_one_f, colums = ['treatments = ' + str(i) for i in range(new_one_f.shape[1])])\n",
    "df = pd.concat([df, tmp] , axis = 1)\n",
    "del df.treatments\n",
    "\n",
    "new_one_f = one.fit_transform(df.types_le.values.reshape(-1,1))\n",
    "tpm = pd.DataFrame(new_one_f, colums = ['types = ' + str(i) for i in range(new_one_f.shape[1])])\n",
    "df = pd.concat([df, tmp] , axis = 1)\n",
    "del df.types"
   ]
  }
 ],
 "metadata": {
  "kernelspec": {
   "display_name": "Python 3",
   "language": "python",
   "name": "python3"
  },
  "language_info": {
   "codemirror_mode": {
    "name": "ipython",
    "version": 3
   },
   "file_extension": ".py",
   "mimetype": "text/x-python",
   "name": "python",
   "nbconvert_exporter": "python",
   "pygments_lexer": "ipython3",
   "version": "3.6.8"
  }
 },
 "nbformat": 4,
 "nbformat_minor": 2
}
